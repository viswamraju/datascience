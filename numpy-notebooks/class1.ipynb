{
 "cells": [
  {
   "cell_type": "markdown",
   "id": "80d1cce8-2c32-4f4c-b48b-c64779302ad0",
   "metadata": {},
   "source": [
    "## Q1\n",
    "What is the output?"
   ]
  },
  {
   "cell_type": "code",
   "execution_count": 2,
   "id": "38e83055-0d93-495f-925a-65120dbf48a5",
   "metadata": {},
   "outputs": [],
   "source": [
    "import numpy as np"
   ]
  },
  {
   "cell_type": "code",
   "execution_count": 4,
   "id": "c269bb8b-4ff7-4b01-b111-8ee59f25628a",
   "metadata": {},
   "outputs": [
    {
     "data": {
      "text/plain": [
       "array([-5,  9, -3,  5, 10])"
      ]
     },
     "execution_count": 4,
     "metadata": {},
     "output_type": "execute_result"
    }
   ],
   "source": [
    "x = np.array([-5, 9 , 20 , 25, -3, 5, 16, 10])\n",
    "x[(x >= -5) & (x <= 15)]                                   # numbers in range between -5 and 15"
   ]
  },
  {
   "cell_type": "markdown",
   "id": "e609a901-434f-45ea-88e6-220d4aeb5f35",
   "metadata": {},
   "source": [
    "### Q2   sort np array"
   ]
  },
  {
   "cell_type": "code",
   "execution_count": 8,
   "id": "2aac8582-72c8-4b7a-bd9a-afdc67533f10",
   "metadata": {},
   "outputs": [
    {
     "data": {
      "text/plain": [
       "(None, array(['Astha', 'Raghavendra', 'Ram'], dtype='<U11'))"
      ]
     },
     "execution_count": 8,
     "metadata": {},
     "output_type": "execute_result"
    }
   ],
   "source": [
    "a = np.array(['Ram', 'Astha', 'Raghavendra'])\n",
    "np.sort(a), a     # This is not inplace sort\n",
    "\n",
    "a.sort(), a   # inplace sort\n"
   ]
  },
  {
   "cell_type": "code",
   "execution_count": 10,
   "id": "c58c13ff-34ea-4ad2-bc37-ac2d796c1686",
   "metadata": {},
   "outputs": [
    {
     "data": {
      "text/plain": [
       "array([False, False, False])"
      ]
     },
     "execution_count": 10,
     "metadata": {},
     "output_type": "execute_result"
    }
   ],
   "source": [
    "# Comparing two np arrays\n",
    "a1 = np.array(['Ram','Astha','Brahat'])\n",
    "a2 = np.array(['Shyam','Kalyan','Naveen'])\n",
    "\n",
    "a1 > a2"
   ]
  },
  {
   "cell_type": "markdown",
   "id": "a53faa57-8e5f-4c05-96aa-293ace5224f5",
   "metadata": {},
   "source": [
    "### Q3 Concatenate"
   ]
  },
  {
   "cell_type": "code",
   "execution_count": 14,
   "id": "cc44a16d-9503-4475-bdfb-1da8d0a9ef77",
   "metadata": {},
   "outputs": [
    {
     "data": {
      "text/plain": [
       "array([[ 1,  2,  3,  9],\n",
       "       [ 4,  5,  6, 10]])"
      ]
     },
     "execution_count": 14,
     "metadata": {},
     "output_type": "execute_result"
    }
   ],
   "source": [
    "a = np.array([[1,2,3], [4, 5, 6]])      #  2 * 3\n",
    "b = np.array([[9], [10]])               # 2 * 1\n",
    "\n",
    "np.concatenate((a, b), axis=1)       # Added new matrix as column "
   ]
  },
  {
   "cell_type": "code",
   "execution_count": 20,
   "id": "a8e5b3a3-66f6-4687-bca8-9a54feda8b5a",
   "metadata": {},
   "outputs": [
    {
     "data": {
      "text/plain": [
       "array([[1, 2, 3],\n",
       "       [4, 5, 6],\n",
       "       [7, 8, 9]])"
      ]
     },
     "execution_count": 20,
     "metadata": {},
     "output_type": "execute_result"
    }
   ],
   "source": [
    "a = np.array([[1,2,3], [4, 5, 6]])      # 2 * 3\n",
    "b = np.array([[7, 8, 9]])               #  1 * 3\n",
    "\n",
    "np.concatenate((a, b), axis=0)         # Added new matrix as row"
   ]
  },
  {
   "cell_type": "markdown",
   "id": "b0856495-028b-4bda-a11b-df2e4a86c99e",
   "metadata": {},
   "source": [
    "### Q4 Create 2D array using reshape"
   ]
  },
  {
   "cell_type": "code",
   "execution_count": 22,
   "id": "79bdf6d6-a3e4-4973-a3e7-f2aba1282b91",
   "metadata": {},
   "outputs": [
    {
     "data": {
      "text/plain": [
       "array([[ 0,  1,  2,  3],\n",
       "       [ 4,  5,  6,  7],\n",
       "       [ 8,  9, 10, 11]])"
      ]
     },
     "execution_count": 22,
     "metadata": {},
     "output_type": "execute_result"
    }
   ],
   "source": [
    "a = np.arange(12).reshape(3, 4)\n",
    "a"
   ]
  },
  {
   "cell_type": "markdown",
   "id": "54aa55ae-0ce0-48b8-9ee1-d4f4e9754d99",
   "metadata": {},
   "source": [
    "### Q5  numpy Addition   -  broadcasting"
   ]
  },
  {
   "cell_type": "code",
   "execution_count": 26,
   "id": "6cb0acd4-6869-4d99-b807-b64fdf67a00e",
   "metadata": {},
   "outputs": [
    {
     "data": {
      "text/plain": [
       "(array([ 3,  1,  2, 10,  2,  2,  2,  1,  4,  6]),\n",
       " array([ 3,  1,  2, 10,  2,  2,  2,  1,  4,  6]),\n",
       " array([ 3,  1,  2, 10,  2,  2,  2,  1,  4,  6]))"
      ]
     },
     "execution_count": 26,
     "metadata": {},
     "output_type": "execute_result"
    }
   ],
   "source": [
    "a = np.array([2, 0, 1, 9, 1, 1, 1, 0, 3, 5])\n",
    "a + 1,   np.array(list(map(lambda x: x + 1, a))),  np.array([i + 1 for i in a])"
   ]
  },
  {
   "cell_type": "markdown",
   "id": "b21e0c7b-bfe7-4b6d-a7af-a3fa9998dcb2",
   "metadata": {},
   "source": [
    "### Q6  Manipulate np array"
   ]
  },
  {
   "cell_type": "code",
   "execution_count": 35,
   "id": "f7b0656a-5600-4110-8b8a-7efea2f59e79",
   "metadata": {},
   "outputs": [
    {
     "data": {
      "text/plain": [
       "array([[1., 1., 1., 1., 1.],\n",
       "       [1., 0., 0., 0., 1.],\n",
       "       [1., 0., 0., 0., 1.],\n",
       "       [1., 0., 0., 0., 1.],\n",
       "       [1., 1., 1., 1., 1.]])"
      ]
     },
     "execution_count": 35,
     "metadata": {},
     "output_type": "execute_result"
    }
   ],
   "source": [
    "a = np.ones((5, 5))\n",
    "a[1:-1, 1:-1] = 0\n",
    "a"
   ]
  },
  {
   "cell_type": "markdown",
   "id": "02331e44-0ace-4732-a214-748d767e0d18",
   "metadata": {
    "tags": []
   },
   "source": [
    "### Q7 argsort\n",
    "\n",
    "Given a matrix, sort based on particular column corresponding rows should get moved.\n",
    "\n",
    "\n",
    "5 3 9                         \n",
    "2 1 4   \n",
    "7 6 8\n",
    "\n",
    "sort on second column\n",
    "Output\n",
    "\n",
    "[[2 1 4]    \n",
    " [5 3 9]    \n",
    " [7 6 8]]   \n",
    " \n",
    " "
   ]
  },
  {
   "cell_type": "code",
   "execution_count": 37,
   "id": "2cd852ab-4d7b-43a8-8b92-5f4d1c991678",
   "metadata": {},
   "outputs": [
    {
     "data": {
      "text/plain": [
       "array([[5, 3, 9],\n",
       "       [2, 1, 4],\n",
       "       [7, 6, 8]])"
      ]
     },
     "execution_count": 37,
     "metadata": {},
     "output_type": "execute_result"
    }
   ],
   "source": [
    "a = np.array([[5, 3, 9], [2, 1, 4], [7, 6, 8]])\n",
    "a"
   ]
  },
  {
   "cell_type": "code",
   "execution_count": 41,
   "id": "02d2dc9c-8105-44c6-b5c1-4e497d50d77e",
   "metadata": {},
   "outputs": [
    {
     "data": {
      "text/plain": [
       "array([1, 0, 2], dtype=int64)"
      ]
     },
     "execution_count": 41,
     "metadata": {},
     "output_type": "execute_result"
    }
   ],
   "source": [
    "a[:, 1].argsort()    # gives positions"
   ]
  },
  {
   "cell_type": "code",
   "execution_count": 43,
   "id": "7c699cb4-6778-4e64-93fa-2b059e0cd4ec",
   "metadata": {},
   "outputs": [
    {
     "data": {
      "text/plain": [
       "array([[2, 1, 4],\n",
       "       [5, 3, 9],\n",
       "       [7, 6, 8]])"
      ]
     },
     "execution_count": 43,
     "metadata": {},
     "output_type": "execute_result"
    }
   ],
   "source": [
    "# After getting positions in the same order place rows\n",
    "a[a[:, 1].argsort()]"
   ]
  },
  {
   "cell_type": "code",
   "execution_count": 48,
   "id": "6edf4dd2-b817-4103-b443-19946e26e470",
   "metadata": {},
   "outputs": [
    {
     "data": {
      "text/plain": [
       "array([1, 0, 2], dtype=int64)"
      ]
     },
     "execution_count": 48,
     "metadata": {},
     "output_type": "execute_result"
    }
   ],
   "source": [
    "a[1, :].argsort()"
   ]
  },
  {
   "cell_type": "code",
   "execution_count": 49,
   "id": "d87d9084-611c-4302-bfc5-f5bbf52f7570",
   "metadata": {},
   "outputs": [
    {
     "data": {
      "text/plain": [
       "array([[2, 1, 4],\n",
       "       [5, 3, 9],\n",
       "       [7, 6, 8]])"
      ]
     },
     "execution_count": 49,
     "metadata": {},
     "output_type": "execute_result"
    }
   ],
   "source": [
    "a[[1, 0, 2]]"
   ]
  },
  {
   "cell_type": "code",
   "execution_count": 50,
   "id": "c8cb64f1-b4d1-4f06-91f3-fa2749649b6f",
   "metadata": {},
   "outputs": [
    {
     "data": {
      "text/plain": [
       "array([[5, 3, 9],\n",
       "       [2, 1, 4],\n",
       "       [7, 6, 8]])"
      ]
     },
     "execution_count": 50,
     "metadata": {},
     "output_type": "execute_result"
    }
   ],
   "source": [
    "a"
   ]
  },
  {
   "cell_type": "code",
   "execution_count": 51,
   "id": "5b2326f0-5108-4ace-94a2-49f38cc21117",
   "metadata": {},
   "outputs": [],
   "source": [
    "b = a.T"
   ]
  },
  {
   "cell_type": "code",
   "execution_count": 52,
   "id": "0f900678-13b8-4824-a7f7-f44d798c0513",
   "metadata": {},
   "outputs": [
    {
     "data": {
      "text/plain": [
       "array([[5, 2, 7],\n",
       "       [3, 1, 6],\n",
       "       [9, 4, 8]])"
      ]
     },
     "execution_count": 52,
     "metadata": {},
     "output_type": "execute_result"
    }
   ],
   "source": [
    "b"
   ]
  },
  {
   "cell_type": "code",
   "execution_count": 54,
   "id": "260b9278-3c58-4c88-b674-618943c96ce9",
   "metadata": {},
   "outputs": [
    {
     "data": {
      "text/plain": [
       "array([[3, 5, 9],\n",
       "       [1, 2, 4],\n",
       "       [6, 7, 8]])"
      ]
     },
     "execution_count": 54,
     "metadata": {},
     "output_type": "execute_result"
    }
   ],
   "source": [
    "b[[1, 0, 2]].T"
   ]
  },
  {
   "cell_type": "markdown",
   "id": "f93dc0cf-736b-4ce6-b6cc-9b72dec7d825",
   "metadata": {},
   "source": [
    "### Q8\n",
    "5 10 3\n",
    "\n",
    "Start of the sequence = 5, length of the sequence = 10 and step = 3.\n",
    "\n",
    "First point would be the start point only, second point = start + 1*step = 5 + 1*3 =8, ....... 10th point = start + (10-1)*step = 5 + 9*3 = 32\n"
   ]
  },
  {
   "cell_type": "code",
   "execution_count": 55,
   "id": "b0522407-092c-48c1-ab41-fc14b8918d1c",
   "metadata": {},
   "outputs": [
    {
     "data": {
      "text/plain": [
       "array([ 5,  8, 11, 14, 17, 20, 23, 26, 29, 32])"
      ]
     },
     "execution_count": 55,
     "metadata": {},
     "output_type": "execute_result"
    }
   ],
   "source": [
    "start = 5 \n",
    "step = 3\n",
    "nums = 10\n",
    "\n",
    "l = []\n",
    "for i in range(10):\n",
    "    l.append(start + (step * i))\n",
    "np.array(l)"
   ]
  },
  {
   "cell_type": "markdown",
   "id": "6238e8a8-7bb1-4c4f-99ca-42fb969e9a8b",
   "metadata": {},
   "source": [
    "### Q9 \n",
    "\n",
    "[[ 7 4 8 5 1]   \n",
    " [ 8 0 11 3 5]   \n",
    " [ 9 6 3 5 0]   \n",
    " [ 1 5 7 3 2]   \n",
    " [ 4 7 2 9 1]]   \n",
    " \n",
    " pick all elements that are even and create a square array using re shape"
   ]
  },
  {
   "cell_type": "code",
   "execution_count": 56,
   "id": "0075f07a-d4df-4731-8a40-d846380f91f9",
   "metadata": {},
   "outputs": [
    {
     "data": {
      "text/plain": [
       "array([[ 7,  4,  8,  5,  1],\n",
       "       [ 8,  0, 11,  3,  5],\n",
       "       [ 9,  6,  3,  5,  0],\n",
       "       [ 1,  5,  7,  3,  2],\n",
       "       [ 4,  7,  2,  9,  1]])"
      ]
     },
     "execution_count": 56,
     "metadata": {},
     "output_type": "execute_result"
    }
   ],
   "source": [
    "a = np.array([[7, 4, 8, 5, 1], [8, 0, 11, 3, 5], [9, 6, 3, 5, 0], [1, 5, 7, 3, 2], [4, 7, 2, 9, 1]])\n",
    "a"
   ]
  },
  {
   "cell_type": "code",
   "execution_count": 58,
   "id": "bde1b97a-7407-409e-a899-08ac21a29d35",
   "metadata": {},
   "outputs": [
    {
     "data": {
      "text/plain": [
       "array([4, 8, 8, 0, 6, 0, 2, 4, 2])"
      ]
     },
     "execution_count": 58,
     "metadata": {},
     "output_type": "execute_result"
    }
   ],
   "source": [
    "b = a[a % 2 == 0]\n",
    "b"
   ]
  },
  {
   "cell_type": "code",
   "execution_count": 61,
   "id": "8e8b0710-fd10-4b2f-9310-6674cc6ab4c6",
   "metadata": {},
   "outputs": [
    {
     "data": {
      "text/plain": [
       "array([[4, 8, 8],\n",
       "       [0, 6, 0],\n",
       "       [2, 4, 2]])"
      ]
     },
     "execution_count": 61,
     "metadata": {},
     "output_type": "execute_result"
    }
   ],
   "source": [
    "siz = int(len(b) ** 0.5)\n",
    "b.reshape((siz, siz))"
   ]
  },
  {
   "cell_type": "markdown",
   "id": "c065c4b7-7a4d-472e-8c12-726a7081388a",
   "metadata": {},
   "source": [
    "### Q10   MSE"
   ]
  },
  {
   "cell_type": "code",
   "execution_count": 63,
   "id": "8c5890e7-4cae-4406-99c5-efbf99da6ff7",
   "metadata": {},
   "outputs": [],
   "source": [
    "a = np.array([1, 1, 2, 2, 4])\n",
    "b = np.array([0.6, 1.29, 1.99, 2.69, 3.4])"
   ]
  },
  {
   "cell_type": "code",
   "execution_count": 67,
   "id": "952e080e-0420-4369-9aae-ec873728268f",
   "metadata": {},
   "outputs": [
    {
     "data": {
      "text/plain": [
       "0.22"
      ]
     },
     "execution_count": 67,
     "metadata": {},
     "output_type": "execute_result"
    }
   ],
   "source": [
    "np.round(np.sum((a - b) ** 2) / len(a), 2)"
   ]
  },
  {
   "cell_type": "markdown",
   "id": "097af396-7ae8-45c7-a30c-ab5724ef92f0",
   "metadata": {},
   "source": [
    "### Q11  sigmoid"
   ]
  },
  {
   "cell_type": "code",
   "execution_count": 68,
   "id": "b891e319-d9f0-4f4f-9087-62ee2c405350",
   "metadata": {},
   "outputs": [],
   "source": [
    "a = np.array([-2, -1, 0, 1, 2])"
   ]
  },
  {
   "cell_type": "code",
   "execution_count": 69,
   "id": "dca23597-651f-4d0a-b5aa-fa36b211facc",
   "metadata": {},
   "outputs": [
    {
     "data": {
      "text/plain": [
       "array([-2, -1,  0,  1,  2])"
      ]
     },
     "execution_count": 69,
     "metadata": {},
     "output_type": "execute_result"
    }
   ],
   "source": [
    "a"
   ]
  },
  {
   "cell_type": "code",
   "execution_count": 74,
   "id": "91f1278c-feae-40cd-a82c-ebfc184e1440",
   "metadata": {},
   "outputs": [],
   "source": [
    "b = 1 / (1 + np.exp(-a))"
   ]
  },
  {
   "cell_type": "code",
   "execution_count": 75,
   "id": "3b7c0353-d74a-4a0f-85c8-cb07b549ea44",
   "metadata": {},
   "outputs": [
    {
     "data": {
      "text/plain": [
       "array([0.12, 0.27, 0.5 , 0.73, 0.88])"
      ]
     },
     "execution_count": 75,
     "metadata": {},
     "output_type": "execute_result"
    }
   ],
   "source": [
    "np.round(b, 2)"
   ]
  },
  {
   "cell_type": "markdown",
   "id": "4adbca9a-c6e0-4292-977e-e4c8fd12d07e",
   "metadata": {},
   "source": [
    "### Q12  Rotate the image /matrix clock wise by 90\n",
    "\n",
    "Input:\n",
    "\n",
    "[[1 2 3]   \n",
    " [4 5 6]  \n",
    " [7 8 9]]  \n",
    " \n",
    " Output:\n",
    " \n",
    " [[7 4 1]  \n",
    " [8 5 2]   \n",
    " [9 6 3]]  \n"
   ]
  },
  {
   "cell_type": "code",
   "execution_count": 77,
   "id": "ec3e2728-1229-4e62-a3fa-c2655d10d515",
   "metadata": {},
   "outputs": [
    {
     "data": {
      "text/plain": [
       "array([[1, 2, 3],\n",
       "       [4, 5, 6],\n",
       "       [7, 8, 9]])"
      ]
     },
     "execution_count": 77,
     "metadata": {},
     "output_type": "execute_result"
    }
   ],
   "source": [
    "a = np.array([[1, 2, 3], [4, 5, 6], [7, 8, 9]])\n",
    "a"
   ]
  },
  {
   "cell_type": "code",
   "execution_count": 78,
   "id": "8c34c8ff-caf3-4efa-8889-350bb41d46ad",
   "metadata": {},
   "outputs": [
    {
     "data": {
      "text/plain": [
       "array([[1, 4, 7],\n",
       "       [2, 5, 8],\n",
       "       [3, 6, 9]])"
      ]
     },
     "execution_count": 78,
     "metadata": {},
     "output_type": "execute_result"
    }
   ],
   "source": [
    "a.T"
   ]
  },
  {
   "cell_type": "code",
   "execution_count": 80,
   "id": "7d99c8cd-4b67-4fa3-b35f-637db92bd4f7",
   "metadata": {},
   "outputs": [
    {
     "data": {
      "text/plain": [
       "array([[7, 4, 1],\n",
       "       [8, 5, 2],\n",
       "       [9, 6, 3]])"
      ]
     },
     "execution_count": 80,
     "metadata": {},
     "output_type": "execute_result"
    }
   ],
   "source": [
    "np.rot90(a, -1)"
   ]
  },
  {
   "cell_type": "code",
   "execution_count": 85,
   "id": "29fbd76e-d68b-4ac3-8873-07ddd17ef282",
   "metadata": {},
   "outputs": [
    {
     "data": {
      "text/plain": [
       "array([[2, 1]])"
      ]
     },
     "execution_count": 85,
     "metadata": {},
     "output_type": "execute_result"
    }
   ],
   "source": [
    "# Another way\n",
    "\n",
    "# Actuall array shape : m * n\n",
    "# new Array size will be : n * m\n",
    "\n",
    "a = np.array([[1], [2]])\n",
    "m, n = a.shape\n",
    "b = np.arange(m * n).reshape((n, m))\n",
    "\n",
    "b.shape\n",
    "\n",
    "\n",
    "for i in range(n):\n",
    "    b[i] = a[:, i][::-1]\n",
    "\n",
    "b\n",
    "\n",
    "\n",
    "\n",
    "    "
   ]
  },
  {
   "cell_type": "code",
   "execution_count": null,
   "id": "785bc6e0-8501-49fe-bea9-a135912c25cd",
   "metadata": {},
   "outputs": [],
   "source": []
  }
 ],
 "metadata": {
  "kernelspec": {
   "display_name": "Python 3 (ipykernel)",
   "language": "python",
   "name": "python3"
  },
  "language_info": {
   "codemirror_mode": {
    "name": "ipython",
    "version": 3
   },
   "file_extension": ".py",
   "mimetype": "text/x-python",
   "name": "python",
   "nbconvert_exporter": "python",
   "pygments_lexer": "ipython3",
   "version": "3.9.6"
  }
 },
 "nbformat": 4,
 "nbformat_minor": 5
}
